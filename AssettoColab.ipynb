{
  "nbformat": 4,
  "nbformat_minor": 0,
  "metadata": {
    "colab": {
      "provenance": [],
      "authorship_tag": "ABX9TyNsZIm5pbycRwTCq6OzCs/r",
      "include_colab_link": true
    },
    "kernelspec": {
      "name": "python3",
      "display_name": "Python 3"
    },
    "language_info": {
      "name": "python"
    }
  },
  "cells": [
    {
      "cell_type": "markdown",
      "metadata": {
        "id": "view-in-github",
        "colab_type": "text"
      },
      "source": [
        "<a href=\"https://colab.research.google.com/github/jerkey06/AssetoColab/blob/main/AssettoColab.ipynb\" target=\"_parent\"><img src=\"https://colab.research.google.com/assets/colab-badge.svg\" alt=\"Open In Colab\"/></a>"
      ]
    },
    {
      "cell_type": "markdown",
      "source": [
        "```\n",
        "        █████╗ ███████╗███████╗███████╗████████╗████████╗ ██████╗     ██████╗ ██████╗ ██╗      █████╗ ██████╗\n",
        "        ██╔══██╗██╔════╝██╔════╝██╔════╝╚══██╔══╝╚══██╔══╝██╔═══██╗    ██╔════╝██╔═══██╗██║     ██╔══██╗██╔══██╗\n",
        "        ███████║███████╗███████╗█████╗     ██║      ██║   ██║   ██║    ██║     ██║   ██║██║     ███████║██████╔╝\n",
        "        ██╔══██║╚════██║╚════██║██╔══╝     ██║      ██║   ██║   ██║    ██║     ██║   ██║██║     ██╔══██║██╔══██╗\n",
        "        ██║  ██║███████║███████║███████╗   ██║      ██║   ╚██████╔╝    ╚██████╗╚██████╔╝███████╗██║  ██║██████╔╝\n",
        "        ╚═╝  ╚═╝╚══════╝╚══════╝╚══════╝   ╚═╝      ╚═╝    ╚═════╝      ╚═════╝ ╚═════╝ ╚══════╝╚═╝  ╚═╝╚═════╝\n",
        "```\n",
        "**Run an Assetto Corsa Server with Mods on Google Colab!**\n",
        "---\n",
        "Este notebook te permitirá ejecutar un servidor de Assetto Corsa con soporte para mods y contenido personalizado."
      ],
      "metadata": {
        "id": "CjVto27CbwuL"
      }
    },
    {
      "cell_type": "markdown",
      "source": [
        "# Configuración de Mods\n",
        "\n",
        "Primero, necesitamos configurar la estructura de carpetas para los mods y verificar que todo esté en su lugar."
      ],
      "metadata": {
        "id": "dFXPLHyDc8W-"
      }
    },
    {
      "cell_type": "code",
      "source": [
        "import os\n",
        "import shutil\n",
        "import json\n",
        "from google.colab import files\n",
        "from google.colab import drive\n",
        "\n",
        "drive.mount('/content/drive')\n",
        "\n",
        "base_path = \"/content/drive/My Drive/AC-server\"\n",
        "folders = [\n",
        "    'content/cars',\n",
        "    'content/tracks',\n",
        "    'content/weather',\n",
        "    'system/apps',\n",
        "    'system/cfg'\n",
        "]\n",
        "\n",
        "for folder in folders:\n",
        "    pull_path = os.path.join(base_path, folder)\n",
        "    os.makedirs(pull_path, exist_ok=True)\n",
        "    print(f\"Created folder: {pull_path}\")\n",
        "\n",
        "def upload_mod(mod_type):\n",
        "    \"\"\"Load mod files to the appropriate directory\"\"\"\n",
        "    print(f'Select the files for {mod_type}...')\n",
        "    uploaded = files.upload()\n",
        "\n",
        "    target_dir = os.path.join(base_path, f'content/{mod_type}')\n",
        "    for filename in uploaded.keys():\n",
        "        if filename.endswith('.zip'):\n",
        "            import zipfile\n",
        "            with zipfile.ZipFile(filename, 'r') as zip_ref:\n",
        "                zip_ref.extractall(target_dir)\n",
        "            os.remove(filename)\n",
        "        else:\n",
        "            shutil.move(filename, os.path.join(target_dir, filename))\n",
        "\n",
        "    print(f'Successfully uploaded {mod_type} files!')\n",
        "\n",
        "print('Mods system initialized successfully')"
      ],
      "metadata": {
        "id": "GXD0cHp1dm9u"
      },
      "execution_count": null,
      "outputs": []
    },
    {
      "cell_type": "markdown",
      "source": [
        "#Subir Mods\n",
        "\n",
        "Usa las siguientes celdas para subir tus mods de autos y pistas."
      ],
      "metadata": {
        "id": "QW9nsAI6iQ2B"
      }
    },
    {
      "cell_type": "code",
      "source": [
        "#upload cars mods\n",
        "print('Uploading cars mods (files .zip or folders)')\n",
        "upload_mod('cars')"
      ],
      "metadata": {
        "id": "FfVOjRlpiyX3"
      },
      "execution_count": null,
      "outputs": []
    },
    {
      "cell_type": "code",
      "source": [
        "#upload traks mods\n",
        "print('Uploading tracks mods (files .zip or folders)')\n",
        "upload_mod('tracks')"
      ],
      "metadata": {
        "id": "4_c9hqVRjKwW"
      },
      "execution_count": null,
      "outputs": []
    },
    {
      "cell_type": "markdown",
      "source": [
        "#Configuracion del servidor (Mods)"
      ],
      "metadata": {
        "id": "ombHEmCvjXm3"
      }
    },
    {
      "cell_type": "code",
      "source": [
        "import os\n",
        "import json\n",
        "\n",
        "def list_available_content():\n",
        "    \"\"\"List all available cars and tracks\"\"\"\n",
        "    cars_path = os.path.join(base_path, 'content/cars')\n",
        "    tracks_path = os.path.join(base_path, 'content/tracks')\n",
        "\n",
        "    print('Available Cars:')\n",
        "    cars = [d for d in os.listdir(cars_path) if os.path.isdir(os.path.join(cars_path, d))]\n",
        "    for car in cars:\n",
        "        print(f'- {car}')\n",
        "\n",
        "    print('\\nAvailable Tracks:')\n",
        "    tracks = [d for d in os.listdir(tracks_path) if os.path.isdir(os.path.join(tracks_path, d))]\n",
        "    for track in tracks:\n",
        "        print(f'- {track}')\n",
        "\n",
        "def update_server_config():\n",
        "    \"\"\"Update server configuration with selected mods\"\"\"\n",
        "    config_path = os.path.join(base_path, 'server_cfg.json')\n",
        "\n",
        "    print('\\nConfiguring server...')\n",
        "    server_name = input('Server name: ') or 'Assetto Corsa Server'\n",
        "    cars = input('Cars (separated by semicolons): ')\n",
        "    track = input('Track: ')\n",
        "\n",
        "    config = {\n",
        "        \"SERVER\": {\n",
        "            \"NAME\": server_name,\n",
        "            \"CARS\": cars,\n",
        "            \"TRACK\": track,\n",
        "            \"MAX_CLIENTS\": 24,\n",
        "            \"ADMIN_PASSWORD\": input('Admin password: ') or 'admin',\n",
        "            \"UDP_PORT\": 9600,\n",
        "            \"TCP_PORT\": 9600,\n",
        "            \"HTTP_PORT\": 8081,\n",
        "            \"PICKUP_MODE_ENABLED\": 1,\n",
        "            \"LOOP_MODE\": 1,\n",
        "            \"SLEEP_TIME\": 1,\n",
        "            \"REGISTER_TO_LOBBY\": 1,\n",
        "            \"CLIENT_SEND_INTERVAL_HZ\": 15,\n",
        "            \"ALLOWED_TYRES_OUT\": 4,\n",
        "            \"DAMAGE_MULTIPLIER\": 100,\n",
        "            \"FUEL_RATE\": 100,\n",
        "            \"TYRE_WEAR_RATE\": 100\n",
        "        }\n",
        "    }\n",
        "\n",
        "    with open(config_path, 'w') as f:\n",
        "        json.dump(config, f, indent=4)\n",
        "\n",
        "    print('Server configuration updated successfully!')\n",
        "\n",
        "list_available_content()\n",
        "update_server_config()"
      ],
      "metadata": {
        "id": "Auzun4r-jfkF"
      },
      "execution_count": null,
      "outputs": []
    },
    {
      "cell_type": "code",
      "source": [
        "import os\n",
        "import json\n",
        "import requests\n",
        "\n",
        "# Update packages\n",
        "!sudo apt update &>/dev/null && echo \"apt cache updated\" || echo \"error updating apt cache\"\n",
        "\n",
        "# Install dependencies\n",
        "!sudo apt-get install -y lib32gcc1 lib32stdc++6 unzip &>/dev/null && echo \"Dependencies installed\" || echo \"Error installing dependencies\"\n",
        "\n",
        "# Mount Google Drive\n",
        "from google.colab import drive\n",
        "drive.mount('/content/drive')\n",
        "\n",
        "%cd \"/content/drive/My Drive/AC-server\"\n",
        "\n",
        "# Verify mods\n",
        "def verify_mods():\n",
        "    with open('server_cfg.json') as f:\n",
        "        config = json.load(f)\n",
        "\n",
        "    cars = config['SERVER']['CARS'].split(';')\n",
        "    track = config['SERVER']['TRACK']\n",
        "\n",
        "    missing = []\n",
        "\n",
        "    # Verify cars\n",
        "    for car in cars:\n",
        "        if not os.path.exists(f'content/cars/{car}'):\n",
        "            missing.append(f'Car: {car}')\n",
        "\n",
        "    # Verify track\n",
        "    if not os.path.exists(f'content/tracks/{track}'):\n",
        "        missing.append(f'Track: {track}')\n",
        "\n",
        "    if missing:\n",
        "        print('WARNING: Missing content:')\n",
        "        for item in missing:\n",
        "            print(f'- {item}')\n",
        "        return False\n",
        "    return True\n",
        "\n",
        "# Verify mods before starting\n",
        "if not verify_mods():\n",
        "    print('\\nPlease make sure all necessary mods are installed before continuing.')\n",
        "    decision = input('Do you want to continue anyway? (y/n): ')\n",
        "    if decision.lower() != 'y':\n",
        "        raise Exception('Server initiation canceled')\n",
        "\n",
        "# Choose tunnel service\n",
        "tunnel_service = \"argo\"  # or \"ngrok\"\n",
        "print(\"Using\", tunnel_service, \"for connection\")\n",
        "\n",
        "if tunnel_service == \"ngrok\":\n",
        "    !pip -q install pyngrok\n",
        "    from pyngrok import conf, ngrok\n",
        "\n",
        "    print(\"Get your token from https://dashboard.ngrok.com/auth\")\n",
        "    import getpass\n",
        "    authtoken = getpass.getpass()\n",
        "    !ngrok authtoken $authtoken\n",
        "\n",
        "    conf.get_default().region = 'us'\n",
        "\n",
        "    tcp_url = ngrok.connect(9600, 'tcp')\n",
        "    udp_url = ngrok.connect(9600, 'udp')\n",
        "    print('Server TCP address:', ((str(tcp_url).split('\\\"')[1::2])[0]).replace('tcp://', ''))\n",
        "    print('Server UDP address:', ((str(udp_url).split('\\\"')[1::2])[0]).replace('udp://', ''))\n",
        "\n",
        "    print('Starting server...')\n",
        "    !./acServer\n",
        "\n",
        "else:\n",
        "    !wget https://github.com/cloudflare/cloudflared/releases/latest/download/cloudflared-linux-amd64\n",
        "    !chmod +x cloudflared-linux-amd64\n",
        "    print('Starting server...')\n",
        "    !./cloudflared-linux-amd64 tunnel --url tcp://localhost:9600 & ./acServer\n"
      ],
      "metadata": {
        "id": "xwwJpAfZmm03"
      },
      "execution_count": null,
      "outputs": []
    }
  ]
}